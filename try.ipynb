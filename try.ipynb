{
 "nbformat": 4,
 "nbformat_minor": 2,
 "metadata": {
  "language_info": {
   "name": "python",
   "codemirror_mode": {
    "name": "ipython",
    "version": 3
   },
   "version": "3.7.5-final"
  },
  "orig_nbformat": 2,
  "file_extension": ".py",
  "mimetype": "text/x-python",
  "name": "python",
  "npconvert_exporter": "python",
  "pygments_lexer": "ipython3",
  "version": 3,
  "kernelspec": {
   "name": "python37564bit90d1a539d2c74dddac41efed9681724a",
   "display_name": "Python 3.7.5 64-bit"
  }
 },
 "cells": [
  {
   "cell_type": "code",
   "execution_count": 1,
   "metadata": {},
   "outputs": [],
   "source": [
    "import sqlite3\n",
    "import pandas as pd\n",
    "\n",
    "conn = sqlite3.connect(\"./movies.db\")\n",
    "c =conn.cursor()\n",
    "\n",
    "df  = pd.read_csv(\"./csv/Current.csv\",index_col=[0])\n",
    "\n",
    ""
   ]
  },
  {
   "cell_type": "code",
   "execution_count": 2,
   "metadata": {},
   "outputs": [
    {
     "output_type": "execute_result",
     "data": {
      "text/plain": "        ID                Name  Season                 Last_ep    Aired on\n0  1520211    The Walking Dead      10               The Tower  2020-04-05\n1  2467372  Brooklyn Nine-Nine       7            Valloweaster  2020-04-09\n2  3526078      Schitt's Creek       6            Happy Ending  2020-04-07\n3  2861424      Rick and Morty       4  Rattlestar Ricklactica  2019-12-15\n4  8531222                Dave       1     What Wood You Wear?  2020-04-08",
      "text/html": "<div>\n<style scoped>\n    .dataframe tbody tr th:only-of-type {\n        vertical-align: middle;\n    }\n\n    .dataframe tbody tr th {\n        vertical-align: top;\n    }\n\n    .dataframe thead th {\n        text-align: right;\n    }\n</style>\n<table border=\"1\" class=\"dataframe\">\n  <thead>\n    <tr style=\"text-align: right;\">\n      <th></th>\n      <th>ID</th>\n      <th>Name</th>\n      <th>Season</th>\n      <th>Last_ep</th>\n      <th>Aired on</th>\n    </tr>\n  </thead>\n  <tbody>\n    <tr>\n      <th>0</th>\n      <td>1520211</td>\n      <td>The Walking Dead</td>\n      <td>10</td>\n      <td>The Tower</td>\n      <td>2020-04-05</td>\n    </tr>\n    <tr>\n      <th>1</th>\n      <td>2467372</td>\n      <td>Brooklyn Nine-Nine</td>\n      <td>7</td>\n      <td>Valloweaster</td>\n      <td>2020-04-09</td>\n    </tr>\n    <tr>\n      <th>2</th>\n      <td>3526078</td>\n      <td>Schitt's Creek</td>\n      <td>6</td>\n      <td>Happy Ending</td>\n      <td>2020-04-07</td>\n    </tr>\n    <tr>\n      <th>3</th>\n      <td>2861424</td>\n      <td>Rick and Morty</td>\n      <td>4</td>\n      <td>Rattlestar Ricklactica</td>\n      <td>2019-12-15</td>\n    </tr>\n    <tr>\n      <th>4</th>\n      <td>8531222</td>\n      <td>Dave</td>\n      <td>1</td>\n      <td>What Wood You Wear?</td>\n      <td>2020-04-08</td>\n    </tr>\n  </tbody>\n</table>\n</div>"
     },
     "metadata": {},
     "execution_count": 2
    }
   ],
   "source": [
    "df.head()"
   ]
  },
  {
   "cell_type": "code",
   "execution_count": null,
   "metadata": {},
   "outputs": [],
   "source": [
    "for i,row in df:\n",
    "    c.execute(\"INSERT INTO series VALUES((?),(?),(?),(?),(?))\",[int(row[\"ID\"]),row[\"Name\"],row[\"Season\"],row[\"Last_ep\"],row[\"Aired on\"]])\n",
    "    conn.commit()"
   ]
  }
 ]
}